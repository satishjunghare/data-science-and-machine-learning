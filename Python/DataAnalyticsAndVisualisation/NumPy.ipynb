{
 "cells": [
  {
   "cell_type": "markdown",
   "id": "407c8ff8-8379-40d5-bbf6-897f3dc636ae",
   "metadata": {},
   "source": [
    "# NumPy"
   ]
  },
  {
   "cell_type": "markdown",
   "id": "0bce8c5a-d8c2-42c1-88aa-a52df9d9a924",
   "metadata": {},
   "source": [
    "### What is NumPy?\n",
    "1. NumPy (Numerical Python) is a python library for fast numerical computations.\n",
    "2. It provides\n",
    "   1. ndarray (n-dimentional array) like a powerful version of python list\n",
    "   2. Vectorized operations, apply operations to entire arrays without writing loops\n",
    "   3. Linear algebra, statistics and mathematical functions\n",
    "   4. Interface with C, C++, Fortran Code for performance\n",
    "\n",
    "### Why NumPy is Important?\n",
    "1. Performance\n",
    "   1. Python list are slow (dynamic typing, object overhead)\n",
    "   2. NumPy arrays are stored in contiguous memory and use C-optimized code -> 10-100x faster\n",
    "2. Foundation of Data Science\n",
    "   1. Libraries like Pandas, SciPy, Scikit-learn, TensorFlow, PyTorch are all built on top of NumPy\n",
    "3. Math & Data Friendly\n",
    "   1. Easy matrix operations, which are critical in ML (linear algebra, optimization etc)\n",
    "\n",
    "### Key Features of NumPy\n",
    "1. N-dimentional arrays (ndarray)\n",
    "2. Vectorized operations (no python loops needed)\n",
    "3. Broadcasting (automatic expansion of arrays for operations)\n",
    "4. Random number generation (important in ML & simulations)\n",
    "5. Linear algebra functions (dot product, eigenvalues, matrix multiplications)\n",
    "6. Fourier transforms (signal processing)\n",
    "7. Integration with C/C++/Fortran for high performance\n",
    "\n",
    "### Real-Life Use Cases of NumPy\n",
    "1. Data Science & Analytics\n",
    "   1. Handling large datasets\n",
    "   2. Preprocessing data (normalization, scaling, missing value handling)\n",
    "   3. Example: Converting customer transaction logs into structured numeric data for modeling\n",
    "2. Machine Learning\n",
    "   1. Underlying computaions in TensorFlow, PyTorch, Scikit-learn are powered by NumPy\n",
    "   2. Tasks like Gradient descent, Feature scaling, Loss calculations etc\n",
    "   3. Example: Training a model for hotel price prediction on travel portal\n",
    "3. Image Processing (Computer Vision)\n",
    "   1. Images are matrices of pixel values\n",
    "   2. NumPy makes it easy to manupulate them\n",
    "   3. Example: compressing, filtering or detecting objects in travel photos\n",
    "4. Financial Analysis\n",
    "   1. Stock price movements, risk models, simulations\n",
    "   2. Example: Monte carlo simulations to predict hotel booking demand in travel portal\n",
    "5. Scientific Research\n",
    "   1. Physics\n",
    "   2. Biology\n",
    "   3. Chemistry\n",
    "6. Recommendation Systems\n",
    "   1. Matrix factorization\n",
    "   2. Examples: Recommend destinations to customers based on booking history\n",
    "7. Natural Language Processing (NLP)\n",
    "   1. Text -> vectors (Bag of words, Word2Vec)\n",
    "   2. Example: Converting customer reviews into embeddings for sentiment analysis\n",
    "\n",
    "### NumPy in Travel Portal Context\n",
    "1. Customer Behaviour Analysis -> Understand booking patterns across destinations\n",
    "2. Ad Spend Optimization -> Vectorized calculation of ROAS (Return on Ad Spend)\n",
    "3. Dynamic Pricing -> Real-time adjustment of hotel/destination pricing\n",
    "4. Fraud Detection -> Detect unusual booking/payment behaviors\n",
    "5. Recommendation Engine -> Suggest hotels/destinations like Amazon suggests products"
   ]
  },
  {
   "cell_type": "code",
   "execution_count": 1,
   "id": "93a27d28-ecfe-4733-a2d2-2c2465e6b58a",
   "metadata": {},
   "outputs": [],
   "source": [
    "import numpy as np\n",
    "import sys"
   ]
  },
  {
   "cell_type": "code",
   "execution_count": 25,
   "id": "328cf10d-2718-4358-8451-ef7a4d727f5d",
   "metadata": {},
   "outputs": [
    {
     "name": "stdout",
     "output_type": "stream",
     "text": [
      "[1, 2, 3, 'First', 4, True, 5]\n",
      "Element 1 (<class 'int'>): 28 bytes\n",
      "Element 2 (<class 'int'>): 28 bytes\n",
      "Element 3 (<class 'int'>): 28 bytes\n",
      "Element First (<class 'str'>): 54 bytes\n",
      "Element 4 (<class 'int'>): 28 bytes\n",
      "Element True (<class 'bool'>): 28 bytes\n",
      "Element 5 (<class 'int'>): 28 bytes\n",
      "['1' '2' '3' 'First' '4' 'True' '5']\n",
      "Element 1 (<class 'numpy.str_'>): 82 bytes\n",
      "Element 2 (<class 'numpy.str_'>): 82 bytes\n",
      "Element 3 (<class 'numpy.str_'>): 82 bytes\n",
      "Element First (<class 'numpy.str_'>): 86 bytes\n",
      "Element 4 (<class 'numpy.str_'>): 82 bytes\n",
      "Element True (<class 'numpy.str_'>): 85 bytes\n",
      "Element 5 (<class 'numpy.str_'>): 82 bytes\n"
     ]
    }
   ],
   "source": [
    "# Heterogeneous List\n",
    "# A list contains an elements of different data types\n",
    "# Very flexible, but can make operation slower and less efficient because pythons has to deal with multiple types\n",
    "p_list = [1,2,3,\"First\",4,True,5]\n",
    "print(p_list)\n",
    "for item in p_list:\n",
    "    print(f\"Element {item} ({type(item)}): {sys.getsizeof(item)} bytes\")\n",
    "\n",
    "\n",
    "# Homogeneous List\n",
    "# A list where all elemenets are of the same type\n",
    "# Makes operations easier and often faster as interpreter knows what type of data it is dealing with\n",
    "# In NumPy list only homogeneous is allowed\n",
    "# Memory can be allocated in a contiguous block\n",
    "\n",
    "np_array = np.array([1,2,3,\"First\",4,True,5])\n",
    "print(np_array)\n",
    "for item in np_array:\n",
    "    print(f\"Element {item} ({type(item)}): {sys.getsizeof(item)} bytes\")"
   ]
  },
  {
   "cell_type": "code",
   "execution_count": 3,
   "id": "26699b32-fde0-45bf-80ec-452beb7109a8",
   "metadata": {},
   "outputs": [
    {
     "name": "stdout",
     "output_type": "stream",
     "text": [
      "2000000\n",
      "CPU times: user 589 ms, sys: 87.5 ms, total: 676 ms\n",
      "Wall time: 200 ms\n"
     ]
    }
   ],
   "source": [
    "%%time\n",
    "# Execution time of simple python list\n",
    "p_list = range(1000000)\n",
    "list_mul = []\n",
    "for i in p_list:\n",
    "    list_mul.append(i * 2)\n",
    "\n",
    "for i in p_list:\n",
    "    list_mul.append(i * 5)\n",
    "\n",
    "print(len(list_mul))"
   ]
  },
  {
   "cell_type": "code",
   "execution_count": 4,
   "id": "f4a5418c-208b-4bec-aa3c-403636cbd542",
   "metadata": {},
   "outputs": [
    {
     "name": "stdout",
     "output_type": "stream",
     "text": [
      "CPU times: user 66.7 ms, sys: 9.36 ms, total: 76 ms\n",
      "Wall time: 76.6 ms\n"
     ]
    }
   ],
   "source": [
    "%%time\n",
    "# Creating numpy array\n",
    "np_array = np.array(range(1000000))"
   ]
  },
  {
   "cell_type": "code",
   "execution_count": 5,
   "id": "e1c2a0f2-ca62-4fcc-b92d-04e2b8b91fc4",
   "metadata": {},
   "outputs": [
    {
     "name": "stdout",
     "output_type": "stream",
     "text": [
      "2000000\n",
      "CPU times: user 3.25 ms, sys: 5.28 ms, total: 8.53 ms\n",
      "Wall time: 7.06 ms\n"
     ]
    }
   ],
   "source": [
    "%%time\n",
    "# Execution time of numpy array\n",
    "array_mul = np_array * 2\n",
    "\n",
    "array_mul_2 = np_array * 5\n",
    "array_mul = np.append(array_mul, array_mul_2, axis=0)\n",
    "\n",
    "print(len(array_mul))"
   ]
  },
  {
   "cell_type": "code",
   "execution_count": 6,
   "id": "dfc92216-ad6c-465e-ab3f-b145bfe4c92b",
   "metadata": {},
   "outputs": [
    {
     "data": {
      "text/plain": [
       "1"
      ]
     },
     "execution_count": 6,
     "metadata": {},
     "output_type": "execute_result"
    }
   ],
   "source": [
    "# Check number of direction\n",
    "array_mul.ndim"
   ]
  },
  {
   "cell_type": "code",
   "execution_count": 7,
   "id": "12c4b52e-505e-4069-ae9c-fdfcaf1c3fa2",
   "metadata": {},
   "outputs": [
    {
     "data": {
      "text/plain": [
       "(2000000,)"
      ]
     },
     "execution_count": 7,
     "metadata": {},
     "output_type": "execute_result"
    }
   ],
   "source": [
    "# Shape of an array\n",
    "array_mul.shape"
   ]
  },
  {
   "cell_type": "code",
   "execution_count": 8,
   "id": "cf83b072-01b2-4df9-b9c9-1ab33b144737",
   "metadata": {},
   "outputs": [
    {
     "data": {
      "text/plain": [
       "2"
      ]
     },
     "execution_count": 8,
     "metadata": {},
     "output_type": "execute_result"
    }
   ],
   "source": [
    "# Two dimentional array\n",
    "arr2 = np.array([[1,2,3], [4,5,6], [7,8,9], [10,11,12]])\n",
    "arr2.ndim"
   ]
  },
  {
   "cell_type": "code",
   "execution_count": 9,
   "id": "ae302a7e-3eac-45f5-bed7-ab05c1dda6c3",
   "metadata": {},
   "outputs": [
    {
     "data": {
      "text/plain": [
       "(4, 3)"
      ]
     },
     "execution_count": 9,
     "metadata": {},
     "output_type": "execute_result"
    }
   ],
   "source": [
    "arr2.shape"
   ]
  },
  {
   "cell_type": "markdown",
   "id": "8904f13c-2ef9-48eb-b628-29b2d7ad9e47",
   "metadata": {},
   "source": [
    "### Vectorization\n",
    "- Replacing explicit loops in Python with array/metrix operations that are executed internally in C/C++ code\n",
    "- Instead of processing data element by element, we process whole array at once\n",
    "- Replacing loops with optimized array operations\n",
    "\n",
    "#### Why is Vectirization Fast?\n",
    "- Uses low-level optimized code (C/Fortran)\n",
    "- Runs on contiguous memory (NumPy arrays)\n",
    "- Can leverage SIMD instructions & parallelism\n",
    "\n",
    "#### Where do we use vectorization?\n",
    "- NumPy & Pandas: Array and dataframe operations.\n",
    "- Machine Learning: Training models (matrix multiplications, dot products).\n",
    "- Deep Learning: Libraries like TensorFlow & PyTorch are fully vectorized.\n",
    "- Data Analytics: Faster filtering, aggregations, and transformations."
   ]
  },
  {
   "cell_type": "code",
   "execution_count": 10,
   "id": "185b961a-0c48-4176-9533-20be51cf158b",
   "metadata": {},
   "outputs": [
    {
     "name": "stdout",
     "output_type": "stream",
     "text": [
      "[2, 4, 6, 8, 10, 12, 14, 16, 18, 20]\n",
      "CPU times: user 45 µs, sys: 3 µs, total: 48 µs\n",
      "Wall time: 52.2 µs\n"
     ]
    }
   ],
   "source": [
    "%%time\n",
    "# Without vectorization\n",
    "numbers = [1, 2, 3, 4, 5, 6, 7, 8, 9, 10]\n",
    "result = []\n",
    "for num in numbers:\n",
    "    result.append(num * 2)\n",
    "print(result)"
   ]
  },
  {
   "cell_type": "code",
   "execution_count": 11,
   "id": "1bf835ce-35d7-41f8-91cb-500d7c2d5eed",
   "metadata": {},
   "outputs": [
    {
     "name": "stdout",
     "output_type": "stream",
     "text": [
      "[ 2  4  6  8 10 12 14 16 18 20]\n",
      "CPU times: user 225 µs, sys: 93 µs, total: 318 µs\n",
      "Wall time: 286 µs\n"
     ]
    }
   ],
   "source": [
    "%%time\n",
    "# With vectorization\n",
    "numbers = np.array([1, 2, 3, 4, 5, 6, 7, 8, 9, 10])\n",
    "result = numbers * 2\n",
    "print(result)"
   ]
  },
  {
   "cell_type": "code",
   "execution_count": 12,
   "id": "ffb3baf5-cded-4c55-9c39-1b85c3fd05b1",
   "metadata": {},
   "outputs": [
    {
     "name": "stdout",
     "output_type": "stream",
     "text": [
      "32\n",
      "CPU times: user 74 µs, sys: 21 µs, total: 95 µs\n",
      "Wall time: 122 µs\n"
     ]
    }
   ],
   "source": [
    "%%time\n",
    "# Dot Product - Loop way\n",
    "a = [1, 2, 3]\n",
    "b = [4, 5, 6]\n",
    "dot = 0\n",
    "for i in range(len(a)):\n",
    "    dot += a[i] * b[i]\n",
    "print(dot)"
   ]
  },
  {
   "cell_type": "code",
   "execution_count": 13,
   "id": "3183c0da-ef15-4ddc-9fb9-20aeacb3ee3c",
   "metadata": {},
   "outputs": [
    {
     "name": "stdout",
     "output_type": "stream",
     "text": [
      "32\n",
      "CPU times: user 59 µs, sys: 11 µs, total: 70 µs\n",
      "Wall time: 64.8 µs\n"
     ]
    }
   ],
   "source": [
    "%%time\n",
    "# Dot Product - Vectorized NumPy way\n",
    "a = np.array([1, 2, 3])\n",
    "b = np.array([4, 5, 6])\n",
    "print(np.dot(a,b))"
   ]
  },
  {
   "cell_type": "code",
   "execution_count": 14,
   "id": "bccc494f-e023-4cd4-b322-75a6c20be004",
   "metadata": {},
   "outputs": [
    {
     "data": {
      "text/plain": [
       "array([0, 1, 2, 3, 4])"
      ]
     },
     "execution_count": 14,
     "metadata": {},
     "output_type": "execute_result"
    }
   ],
   "source": [
    "np.arange(5)"
   ]
  },
  {
   "cell_type": "code",
   "execution_count": 15,
   "id": "5f853106-f30b-4783-bf35-390c387c387e",
   "metadata": {},
   "outputs": [
    {
     "data": {
      "text/plain": [
       "array([2, 3, 4])"
      ]
     },
     "execution_count": 15,
     "metadata": {},
     "output_type": "execute_result"
    }
   ],
   "source": [
    "np.arange(2,5)"
   ]
  },
  {
   "cell_type": "code",
   "execution_count": 24,
   "id": "42975c9c-1eca-45c3-9dac-8c257cfe7463",
   "metadata": {},
   "outputs": [
    {
     "data": {
      "text/plain": [
       "array([ 2.,  4.,  6.,  8., 10.])"
      ]
     },
     "execution_count": 24,
     "metadata": {},
     "output_type": "execute_result"
    }
   ],
   "source": [
    "np.arange(2,10.5,2)"
   ]
  },
  {
   "cell_type": "code",
   "execution_count": 17,
   "id": "ac0dbe88-91e0-412c-92f2-fe6b5d457945",
   "metadata": {},
   "outputs": [
    {
     "data": {
      "text/plain": [
       "array([1.2, 2.3, 4.5, 1. ])"
      ]
     },
     "execution_count": 17,
     "metadata": {},
     "output_type": "execute_result"
    }
   ],
   "source": [
    "# Implicit type casting\n",
    "np.array([1.2, 2.3, 4.5, True])"
   ]
  },
  {
   "cell_type": "code",
   "execution_count": 18,
   "id": "86860709-86ed-4cea-9a7a-30bfe1b49b76",
   "metadata": {},
   "outputs": [
    {
     "data": {
      "text/plain": [
       "array([1.2, 2.3, 4.5, 1. ])"
      ]
     },
     "execution_count": 18,
     "metadata": {},
     "output_type": "execute_result"
    }
   ],
   "source": [
    "# Explicit type casting\n",
    "np.array([1.2, 2.3, 4.5, True], dtype=float)"
   ]
  },
  {
   "cell_type": "code",
   "execution_count": 19,
   "id": "c8bd014f-741f-4eb7-917d-7fea554fe113",
   "metadata": {},
   "outputs": [
    {
     "data": {
      "text/plain": [
       "array([1, 2, 4, 1])"
      ]
     },
     "execution_count": 19,
     "metadata": {},
     "output_type": "execute_result"
    }
   ],
   "source": [
    "arr3 = np.array([1.2, 2.3, 4.5, True])\n",
    "arr3.astype(int)"
   ]
  },
  {
   "cell_type": "code",
   "execution_count": 22,
   "id": "4bd4ae44-cc8d-4f19-8dcd-83e656d6e1b6",
   "metadata": {},
   "outputs": [
    {
     "data": {
      "text/plain": [
       "array([2.3, 4.5])"
      ]
     },
     "execution_count": 22,
     "metadata": {},
     "output_type": "execute_result"
    }
   ],
   "source": [
    "# Getting multiple index values and doesn't work with baseline python\n",
    "arr3[[1,2]]"
   ]
  },
  {
   "cell_type": "markdown",
   "id": "795d128c-ea2f-4bca-8b4b-044f99bf1b6d",
   "metadata": {},
   "source": [
    "### Slicing\n",
    "[ START_INDEX : UPTO_END_INDEX : JUMP_INDEX ]"
   ]
  },
  {
   "cell_type": "code",
   "execution_count": 26,
   "id": "babde9b8-fdf1-4e3a-a7da-ce25b7bb66f4",
   "metadata": {},
   "outputs": [],
   "source": [
    "arr4 = np.arange(10)"
   ]
  },
  {
   "cell_type": "code",
   "execution_count": 28,
   "id": "454dce6e-3c11-4fe8-b878-40aedf209f5a",
   "metadata": {},
   "outputs": [
    {
     "data": {
      "text/plain": [
       "2"
      ]
     },
     "execution_count": 28,
     "metadata": {},
     "output_type": "execute_result"
    }
   ],
   "source": [
    "arr4[2]"
   ]
  },
  {
   "cell_type": "code",
   "execution_count": 42,
   "id": "dc64691e-34fc-462b-9c80-5512656a4340",
   "metadata": {},
   "outputs": [
    {
     "data": {
      "text/plain": [
       "[1, 2, 3, 4, 5]"
      ]
     },
     "execution_count": 42,
     "metadata": {},
     "output_type": "execute_result"
    }
   ],
   "source": [
    "arr5 = [0,1,2,3,4,5,6,7,8,9,10]\n",
    "arr5[1:6]"
   ]
  },
  {
   "cell_type": "code",
   "execution_count": 43,
   "id": "5ca20add-ba2b-4ae6-9cd2-9551501f6dc6",
   "metadata": {},
   "outputs": [
    {
     "data": {
      "text/plain": [
       "[1, 3, 5]"
      ]
     },
     "execution_count": 43,
     "metadata": {},
     "output_type": "execute_result"
    }
   ],
   "source": [
    "arr5[1:7:2]"
   ]
  },
  {
   "cell_type": "code",
   "execution_count": 47,
   "id": "daf90f8d-1802-41d0-baeb-47c8de20a1a8",
   "metadata": {},
   "outputs": [
    {
     "data": {
      "text/plain": [
       "array([ 0,  1,  2,  3,  4, 10, 10, 10, 10, 10])"
      ]
     },
     "execution_count": 47,
     "metadata": {},
     "output_type": "execute_result"
    }
   ],
   "source": [
    "arr4[5:] = 10\n",
    "arr4"
   ]
  },
  {
   "cell_type": "code",
   "execution_count": 49,
   "id": "a20e5519-f4ed-4fdc-b089-7afbcd049358",
   "metadata": {},
   "outputs": [
    {
     "data": {
      "text/plain": [
       "array([ 0,  1,  2,  3,  4,  5,  6,  7,  8,  9, 10, 11, 12, 13, 14, 15, 16,\n",
       "       17, 18, 19])"
      ]
     },
     "execution_count": 49,
     "metadata": {},
     "output_type": "execute_result"
    }
   ],
   "source": [
    "arr6 = np.array(range(20))\n",
    "arr6"
   ]
  },
  {
   "cell_type": "code",
   "execution_count": 74,
   "id": "e2bc7d68-236e-4284-a7f6-9a8dd577c7e9",
   "metadata": {},
   "outputs": [
    {
     "name": "stdout",
     "output_type": "stream",
     "text": [
      "1 (20,)\n"
     ]
    }
   ],
   "source": [
    "print(arr6.ndim, arr6.shape)"
   ]
  },
  {
   "cell_type": "code",
   "execution_count": 64,
   "id": "3d691f8c-9bc9-4367-969e-996043011d85",
   "metadata": {},
   "outputs": [
    {
     "name": "stdout",
     "output_type": "stream",
     "text": [
      "[[ 0  1  2  3  4]\n",
      " [ 5  6  7  8  9]\n",
      " [10 11 12 13 14]\n",
      " [15 16 17 18 19]]\n"
     ]
    }
   ],
   "source": [
    "# Reshape array\n",
    "o1 = arr6.reshape(4,5)\n",
    "print(o1)"
   ]
  },
  {
   "cell_type": "code",
   "execution_count": 70,
   "id": "b6a6724d-a285-4750-91f9-5ef8e7be30f5",
   "metadata": {},
   "outputs": [
    {
     "data": {
      "text/plain": [
       "array([[ 6,  7],\n",
       "       [11, 12]])"
      ]
     },
     "execution_count": 70,
     "metadata": {},
     "output_type": "execute_result"
    }
   ],
   "source": [
    "o1[1:3, 1:3]"
   ]
  },
  {
   "cell_type": "code",
   "execution_count": 72,
   "id": "728d2763-5c30-46e4-aba0-6c83f88471ca",
   "metadata": {},
   "outputs": [
    {
     "data": {
      "text/plain": [
       "array([[13, 14],\n",
       "       [18, 19]])"
      ]
     },
     "execution_count": 72,
     "metadata": {},
     "output_type": "execute_result"
    }
   ],
   "source": [
    "o1[2:, 3:]"
   ]
  },
  {
   "cell_type": "code",
   "execution_count": 145,
   "id": "33b0c688-8346-4dc4-8c12-56adaa62afbc",
   "metadata": {},
   "outputs": [
    {
     "data": {
      "text/plain": [
       "array([[7, 4, 1],\n",
       "       [8, 5, 2],\n",
       "       [9, 6, 3]])"
      ]
     },
     "execution_count": 145,
     "metadata": {},
     "output_type": "execute_result"
    }
   ],
   "source": [
    "a = np.array([[1,2,3], [4,5,6], [7,8,9]])\n",
    "a.reshape(a.shape)[::-1].transpose()"
   ]
  },
  {
   "cell_type": "code",
   "execution_count": null,
   "id": "316a06ff-ae3d-4e20-9970-0d09f0337bad",
   "metadata": {},
   "outputs": [],
   "source": []
  },
  {
   "cell_type": "code",
   "execution_count": null,
   "id": "9a163ab5-832b-4739-9c5b-a2a860bdd1a7",
   "metadata": {},
   "outputs": [],
   "source": []
  },
  {
   "cell_type": "code",
   "execution_count": null,
   "id": "2ff785a2-65e7-4b4e-96a8-393e945b93d3",
   "metadata": {},
   "outputs": [],
   "source": []
  }
 ],
 "metadata": {
  "kernelspec": {
   "display_name": "Python 3 (ipykernel)",
   "language": "python",
   "name": "python3"
  },
  "language_info": {
   "codemirror_mode": {
    "name": "ipython",
    "version": 3
   },
   "file_extension": ".py",
   "mimetype": "text/x-python",
   "name": "python",
   "nbconvert_exporter": "python",
   "pygments_lexer": "ipython3",
   "version": "3.11.4"
  }
 },
 "nbformat": 4,
 "nbformat_minor": 5
}
