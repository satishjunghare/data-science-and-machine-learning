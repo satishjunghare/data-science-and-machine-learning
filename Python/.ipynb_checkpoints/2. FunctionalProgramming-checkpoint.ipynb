{
 "cells": [
  {
   "cell_type": "code",
   "execution_count": 1,
   "id": "499c739f-6e5c-4070-a366-16ea28d8bbab",
   "metadata": {},
   "outputs": [
    {
     "name": "stdout",
     "output_type": "stream",
     "text": [
      "3\n"
     ]
    }
   ],
   "source": [
    "# Lambda Functions\n",
    "add = lambda x, y: x + y\n",
    "print(add(1,2))"
   ]
  },
  {
   "cell_type": "code",
   "execution_count": 2,
   "id": "4ed6586d-8f8f-4006-9836-0ae44d9dbccf",
   "metadata": {},
   "outputs": [
    {
     "name": "stdout",
     "output_type": "stream",
     "text": [
      "False\n",
      "True\n"
     ]
    }
   ],
   "source": [
    "is_even = lambda x: True if x % 2 == 0 else False\n",
    "print(is_even(1))\n",
    "print(is_even(2))"
   ]
  },
  {
   "cell_type": "code",
   "execution_count": 6,
   "id": "6dc69701-081c-40c0-b743-de7513f95263",
   "metadata": {},
   "outputs": [
    {
     "name": "stdout",
     "output_type": "stream",
     "text": [
      "4\n",
      "6\n"
     ]
    }
   ],
   "source": [
    "# Functions as Return Values\n",
    "def create_multiplier(factor):\n",
    "    def multiplier(x):\n",
    "        return x * factor\n",
    "    return multiplier\n",
    "\n",
    "# Different multiplier\n",
    "double = create_multiplier(2)\n",
    "triple = create_multiplier(3)\n",
    "\n",
    "print(double(2))\n",
    "print(triple(2))"
   ]
  },
  {
   "cell_type": "code",
   "execution_count": 4,
   "id": "035081c7-3e84-431a-a5f6-b45db055dc05",
   "metadata": {},
   "outputs": [
    {
     "name": "stdout",
     "output_type": "stream",
     "text": [
      "[1, 5, 6]\n",
      "[-2, -4, 6]\n"
     ]
    }
   ],
   "source": [
    "# Function that creates filters\n",
    "def create_filter(predicate):\n",
    "    def filter_fun(items):\n",
    "        return [item for item in items if predicate(item)]\n",
    "    return filter_fun\n",
    "\n",
    "is_positive = create_filter(lambda x: x > 0)\n",
    "is_even = create_filter(lambda x: x % 2 == 0)\n",
    "\n",
    "print(is_positive([1,-2,-4,5,6,-5]))\n",
    "print(is_even([1,-2,-4,5,6,-5]))"
   ]
  },
  {
   "cell_type": "code",
   "execution_count": null,
   "id": "0768736b-3423-4eb8-b064-baec7a28d319",
   "metadata": {},
   "outputs": [],
   "source": []
  },
  {
   "cell_type": "code",
   "execution_count": 18,
   "id": "9790eb87-4945-4e20-9dda-5661786d8df8",
   "metadata": {},
   "outputs": [
    {
     "name": "stdout",
     "output_type": "stream",
     "text": [
      "[1, 4, 9, 16, 25]\n",
      "['ONE', 'TWO', 'THREE']\n"
     ]
    }
   ],
   "source": [
    "# Map functions\n",
    "numbers = [1,2,3,4,5]\n",
    "squared = list(map(lambda x: x ** 2, numbers))\n",
    "print(squared)\n",
    "\n",
    "words = ['one', 'two', 'three']\n",
    "uppercases = list(map(lambda x: x.upper(), words))\n",
    "print(uppercases)"
   ]
  },
  {
   "cell_type": "code",
   "execution_count": null,
   "id": "0fddd31d-d48e-4494-9531-70a43062928b",
   "metadata": {},
   "outputs": [],
   "source": []
  },
  {
   "cell_type": "code",
   "execution_count": 21,
   "id": "49110adc-e3ea-4617-b3b0-6c3a98ee19c1",
   "metadata": {},
   "outputs": [
    {
     "name": "stdout",
     "output_type": "stream",
     "text": [
      "[0, -2, 4, 6]\n",
      "[1, 3, 4, 5, 6, 7, 7]\n"
     ]
    }
   ],
   "source": [
    "# Filter function\n",
    "numbers = [0,1,-2,3,4,5,6,7,7]\n",
    "even_numbers = list(filter(lambda x: x % 2 == 0, numbers))\n",
    "print(even_numbers)\n",
    "\n",
    "positive_numbers = list(filter(lambda x: x > 0, numbers))\n",
    "print(positive_numbers)"
   ]
  },
  {
   "cell_type": "code",
   "execution_count": null,
   "id": "18601f2e-6333-4491-a319-b1cbffa8919b",
   "metadata": {},
   "outputs": [],
   "source": []
  },
  {
   "cell_type": "code",
   "execution_count": null,
   "id": "2bfcd35e-7cdb-4afb-a82b-7e24dd596c76",
   "metadata": {},
   "outputs": [],
   "source": []
  },
  {
   "cell_type": "code",
   "execution_count": null,
   "id": "50d096ff-cee6-4eea-a015-bbd80f2ac995",
   "metadata": {},
   "outputs": [],
   "source": []
  }
 ],
 "metadata": {
  "kernelspec": {
   "display_name": "Python 3 (ipykernel)",
   "language": "python",
   "name": "python3"
  },
  "language_info": {
   "codemirror_mode": {
    "name": "ipython",
    "version": 3
   },
   "file_extension": ".py",
   "mimetype": "text/x-python",
   "name": "python",
   "nbconvert_exporter": "python",
   "pygments_lexer": "ipython3",
   "version": "3.11.4"
  }
 },
 "nbformat": 4,
 "nbformat_minor": 5
}
